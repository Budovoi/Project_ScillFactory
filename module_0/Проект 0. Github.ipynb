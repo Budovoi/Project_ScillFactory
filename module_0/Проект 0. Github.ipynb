{
 "cells": [
  {
   "cell_type": "code",
   "execution_count": 36,
   "metadata": {},
   "outputs": [
    {
     "name": "stdout",
     "output_type": "stream",
     "text": [
      "Ваш алгоритм угадывает число в среднем за 5 попыток\n"
     ]
    },
    {
     "data": {
      "text/plain": [
       "5"
      ]
     },
     "execution_count": 36,
     "metadata": {},
     "output_type": "execute_result"
    }
   ],
   "source": [
    "import numpy as np\n",
    "number = np.random.randint(1,101) # загадали число\n",
    "\n",
    "\n",
    "def game_core_v3(number):\n",
    "    '''Сначала устанавливаем среднее из интервала, а потом уменьшаем \n",
    "       или увеличиваем его на половину оставшегося интервала, в\n",
    "       зависимости от того, больше оно или меньше искомого числа.  \n",
    "       Функция принимает загаданное число и возвращает число попыток.\n",
    "       '''\n",
    "    pos_ans = [x for x in range(1, 101)]\n",
    "    count = 0\n",
    "    low = pos_ans[0] # нижняя граница интервала\n",
    "    high = len(pos_ans) # верхняя граница интервала\n",
    "    while low <= high:\n",
    "        count += 1\n",
    "        mid = (low+high) / 2\n",
    "        predict = pos_ans[int(mid)]\n",
    "        if predict == number:\n",
    "            return count\n",
    "        elif predict > number:\n",
    "            high = mid - 1\n",
    "        else:\n",
    "            low = mid + 1\n",
    "    return(count) # выход из цикла, если угадали\n",
    "\n",
    "\n",
    "def score_game(game_core):\n",
    "    '''Запускаем игру 1000 раз, чтобы узнать, как быстро игра\n",
    "    угадывает число.\n",
    "    '''\n",
    "    count_ls = []\n",
    "    # фиксируем RANDOM SEED, чтобы эксперимент был воспроизводим!\n",
    "    np.random.seed(1)\n",
    "    random_array = np.random.randint(1,101, size=(1000))\n",
    "    for number in random_array:\n",
    "        count_ls.append(game_core(number))\n",
    "    score = int(np.mean(count_ls))\n",
    "    print(f\"Ваш алгоритм угадывает число в среднем за {score} попыток\")\n",
    "    return(score)\n",
    "\n",
    "\n",
    "score_game(game_core_v3)"
   ]
  }
 ],
 "metadata": {
  "kernelspec": {
   "display_name": "Python 3",
   "language": "python",
   "name": "python3"
  },
  "language_info": {
   "codemirror_mode": {
    "name": "ipython",
    "version": 3
   },
   "file_extension": ".py",
   "mimetype": "text/x-python",
   "name": "python",
   "nbconvert_exporter": "python",
   "pygments_lexer": "ipython3",
   "version": "3.7.6"
  }
 },
 "nbformat": 4,
 "nbformat_minor": 4
}
